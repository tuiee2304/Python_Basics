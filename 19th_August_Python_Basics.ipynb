{
 "cells": [
  {
   "cell_type": "code",
   "execution_count": 1,
   "id": "94e8750f-b5c8-40ed-8ce2-a2915ee857d5",
   "metadata": {},
   "outputs": [],
   "source": [
    "#python basics variable question 1"
   ]
  },
  {
   "cell_type": "code",
   "execution_count": 2,
   "id": "d3db5e4b-71ab-4522-bf7f-7cd58ff93f32",
   "metadata": {},
   "outputs": [],
   "source": [
    "x = 20"
   ]
  },
  {
   "cell_type": "code",
   "execution_count": 3,
   "id": "3186a391-b772-4c49-86f6-9dedc9dc182b",
   "metadata": {},
   "outputs": [],
   "source": [
    "y = 50"
   ]
  },
  {
   "cell_type": "code",
   "execution_count": 4,
   "id": "91549091-949a-45f8-8e99-64307a970a35",
   "metadata": {},
   "outputs": [],
   "source": [
    "x = x + y #adding both value and saving it as x"
   ]
  },
  {
   "cell_type": "code",
   "execution_count": 5,
   "id": "c2fa4aa4-362d-4556-b1ec-b63759b9b2ed",
   "metadata": {},
   "outputs": [
    {
     "data": {
      "text/plain": [
       "70"
      ]
     },
     "execution_count": 5,
     "metadata": {},
     "output_type": "execute_result"
    }
   ],
   "source": [
    "x #first updated"
   ]
  },
  {
   "cell_type": "code",
   "execution_count": 6,
   "id": "3f2cdafc-01e4-42ae-92c0-2e0f3665f9c7",
   "metadata": {},
   "outputs": [],
   "source": [
    "y = x - y #substract y from x(first updated)"
   ]
  },
  {
   "cell_type": "code",
   "execution_count": 7,
   "id": "22c7b418-6889-411f-8198-b6a806064213",
   "metadata": {},
   "outputs": [
    {
     "data": {
      "text/plain": [
       "20"
      ]
     },
     "execution_count": 7,
     "metadata": {},
     "output_type": "execute_result"
    }
   ],
   "source": [
    "y #updated"
   ]
  },
  {
   "cell_type": "code",
   "execution_count": 8,
   "id": "2134718c-0f55-4db3-b4ad-857dfc19021d",
   "metadata": {},
   "outputs": [],
   "source": [
    "x = x - y #substract y (updated) from x(first updated) "
   ]
  },
  {
   "cell_type": "code",
   "execution_count": 9,
   "id": "24a925d1-c7e3-4370-959c-e8cd67e7accd",
   "metadata": {},
   "outputs": [
    {
     "data": {
      "text/plain": [
       "50"
      ]
     },
     "execution_count": 9,
     "metadata": {},
     "output_type": "execute_result"
    }
   ],
   "source": [
    "x #second updated"
   ]
  },
  {
   "cell_type": "code",
   "execution_count": 10,
   "id": "6c1bd049-fa71-4e66-ac60-6b76e4a676a9",
   "metadata": {},
   "outputs": [
    {
     "name": "stdout",
     "output_type": "stream",
     "text": [
      "After Swapping:\n",
      "x= 50\n",
      "y= 20\n"
     ]
    }
   ],
   "source": [
    "print(\"After Swapping:\")\n",
    "print(\"x=\", x)\n",
    "print(\"y=\", y)"
   ]
  },
  {
   "cell_type": "code",
   "execution_count": 11,
   "id": "b4df5eae-69bd-43c9-b495-a72b3d6dd4e3",
   "metadata": {},
   "outputs": [],
   "source": [
    "#question 2"
   ]
  },
  {
   "cell_type": "code",
   "execution_count": 12,
   "id": "cdb2a006-4a70-4b53-997e-da135744423f",
   "metadata": {},
   "outputs": [
    {
     "name": "stdin",
     "output_type": "stream",
     "text": [
      "Enter value of length:- 15\n"
     ]
    }
   ],
   "source": [
    "length = float(input(\"Enter value of length:-\")) #taking input from user for length length can be in decimals too that's why using float"
   ]
  },
  {
   "cell_type": "code",
   "execution_count": 13,
   "id": "b0a31e1e-a61d-4103-a40c-d8e8878ccc0d",
   "metadata": {},
   "outputs": [
    {
     "name": "stdin",
     "output_type": "stream",
     "text": [
      "Enter value of width:- 9\n"
     ]
    }
   ],
   "source": [
    "width = float(input(\"Enter value of width:-\")) #input for width from user"
   ]
  },
  {
   "cell_type": "code",
   "execution_count": 21,
   "id": "cc45d0fe-7889-4644-af9a-f5ab3a95a0d5",
   "metadata": {},
   "outputs": [],
   "source": [
    "area = length * width #formula for area of rectangle"
   ]
  },
  {
   "cell_type": "code",
   "execution_count": 22,
   "id": "9ab19ee3-2113-4fd0-a353-22762ac8e755",
   "metadata": {},
   "outputs": [
    {
     "name": "stdout",
     "output_type": "stream",
     "text": [
      "Area of the rectangle =  135.0\n"
     ]
    }
   ],
   "source": [
    "print(\"Area of the rectangle = \", area) "
   ]
  },
  {
   "cell_type": "code",
   "execution_count": 23,
   "id": "1366acd4-9694-4a76-a4c8-4701ed5d43b2",
   "metadata": {},
   "outputs": [],
   "source": [
    "#question 3"
   ]
  },
  {
   "cell_type": "code",
   "execution_count": 24,
   "id": "f1975129-4b61-483f-927b-0140587b814b",
   "metadata": {},
   "outputs": [
    {
     "name": "stdin",
     "output_type": "stream",
     "text": [
      "Enter temperature in Celsius:- 56.89\n"
     ]
    }
   ],
   "source": [
    "celsius = float(input(\"Enter temperature in Celsius:-\")) #taking celsius input from user"
   ]
  },
  {
   "cell_type": "code",
   "execution_count": 26,
   "id": "ab45b4d7-c11c-4d16-831c-ca87061cc133",
   "metadata": {},
   "outputs": [],
   "source": [
    "fahrenheit = (celsius * 9/5) + 32 #formula for celsius to fahrenheit conversion"
   ]
  },
  {
   "cell_type": "code",
   "execution_count": 27,
   "id": "3ddef0e4-a0d6-40b9-9ce5-e917450b9798",
   "metadata": {},
   "outputs": [
    {
     "name": "stdout",
     "output_type": "stream",
     "text": [
      "Temperature in Fahrenheit:- 134.402\n"
     ]
    }
   ],
   "source": [
    "print(\"Temperature in Fahrenheit:-\", fahrenheit)"
   ]
  },
  {
   "cell_type": "code",
   "execution_count": 29,
   "id": "9fffdf89-231b-45fd-805b-3686df0918d8",
   "metadata": {},
   "outputs": [],
   "source": [
    "# string based questions question 1"
   ]
  },
  {
   "cell_type": "code",
   "execution_count": 34,
   "id": "f7cc0774-0f78-4e44-a773-0a0a5deb55e6",
   "metadata": {},
   "outputs": [
    {
     "name": "stdin",
     "output_type": "stream",
     "text": [
      "Enter your value:- I am IRON MAN\n"
     ]
    }
   ],
   "source": [
    "string = input(\"Enter your value:-\") #any value under normal input is string user can add any value type of that value will be string"
   ]
  },
  {
   "cell_type": "code",
   "execution_count": 37,
   "id": "3a2a08d3-be47-4a5e-b795-372ce70ba2fc",
   "metadata": {},
   "outputs": [],
   "source": [
    "length = len(string) #calculating length of input"
   ]
  },
  {
   "cell_type": "code",
   "execution_count": 38,
   "id": "4a0a8433-129a-423c-9932-8f6840118f92",
   "metadata": {},
   "outputs": [
    {
     "name": "stdout",
     "output_type": "stream",
     "text": [
      "Length of the string:- 13\n"
     ]
    }
   ],
   "source": [
    "print(\"Length of the string:-\", length) "
   ]
  },
  {
   "cell_type": "code",
   "execution_count": 39,
   "id": "456c79ea-8cb8-40dd-8e1c-df2ffebf4d52",
   "metadata": {},
   "outputs": [],
   "source": [
    "#question 2"
   ]
  },
  {
   "cell_type": "code",
   "execution_count": 40,
   "id": "dac3843a-7eb3-4cfa-8036-2e4c373be521",
   "metadata": {},
   "outputs": [
    {
     "name": "stdin",
     "output_type": "stream",
     "text": [
      "Enter the sentence:- I am IRON MAN\n"
     ]
    }
   ],
   "source": [
    "sentence = input(\"Enter the sentence:-\") #taking input from user"
   ]
  },
  {
   "cell_type": "code",
   "execution_count": 43,
   "id": "80a1df92-e9ca-4791-a476-eff309086f47",
   "metadata": {},
   "outputs": [],
   "source": [
    "sentence = sentence.lower() #for avoiding case insensitive"
   ]
  },
  {
   "cell_type": "code",
   "execution_count": 48,
   "id": "13af3771-9f32-43d0-9f88-a659568c8fec",
   "metadata": {},
   "outputs": [],
   "source": [
    "number_of_vowel = 0 #for the tracking of vowels"
   ]
  },
  {
   "cell_type": "code",
   "execution_count": 51,
   "id": "4ba25ccf-ab2d-47a0-8cbd-0db2666b681c",
   "metadata": {},
   "outputs": [],
   "source": [
    "for char in sentence:    \n",
    "    if char in \"aeiou\": #checking for vowel \n",
    "        number_of_vowel += 1"
   ]
  },
  {
   "cell_type": "code",
   "execution_count": 50,
   "id": "deeacbb5-1032-40ae-91dd-6363ceb3e099",
   "metadata": {},
   "outputs": [
    {
     "name": "stdout",
     "output_type": "stream",
     "text": [
      "Number of vowels in the sentence:- 5\n"
     ]
    }
   ],
   "source": [
    "print(\"Number of vowels in the sentence:-\", number_of_vowel)"
   ]
  },
  {
   "cell_type": "code",
   "execution_count": 52,
   "id": "a801874e-853f-4d64-b9f3-808429390c9a",
   "metadata": {},
   "outputs": [],
   "source": [
    "#question 3"
   ]
  },
  {
   "cell_type": "code",
   "execution_count": 54,
   "id": "67d625a6-1a03-4082-b089-e70fb8dbc886",
   "metadata": {},
   "outputs": [
    {
     "name": "stdin",
     "output_type": "stream",
     "text": [
      "Enter your string:- I am IRON MAN\n"
     ]
    }
   ],
   "source": [
    "string = input(\"Enter your string:-\") #input for string"
   ]
  },
  {
   "cell_type": "code",
   "execution_count": 61,
   "id": "a9c17fb5-9493-40a2-9293-eae1778ed3b9",
   "metadata": {},
   "outputs": [],
   "source": [
    "reversed_string = string[-1::-1]"
   ]
  },
  {
   "cell_type": "code",
   "execution_count": 62,
   "id": "80c0c2ec-d4b8-4012-8c70-64152740d435",
   "metadata": {},
   "outputs": [
    {
     "name": "stdout",
     "output_type": "stream",
     "text": [
      "Reversed string:- NAM NORI ma I\n"
     ]
    }
   ],
   "source": [
    "print(\"Reversed string:-\", reversed_string)"
   ]
  },
  {
   "cell_type": "code",
   "execution_count": 63,
   "id": "533d5dd2-57df-4c3e-a18e-1ff2830677ff",
   "metadata": {},
   "outputs": [],
   "source": [
    "#question 4"
   ]
  },
  {
   "cell_type": "code",
   "execution_count": 65,
   "id": "3d38c153-57c0-44bc-b290-0984eef85df9",
   "metadata": {},
   "outputs": [
    {
     "name": "stdin",
     "output_type": "stream",
     "text": [
      "Enter string:- never odd or even\n"
     ]
    }
   ],
   "source": [
    "string = input(\"Enter string:-\") #input for string"
   ]
  },
  {
   "cell_type": "code",
   "execution_count": 75,
   "id": "1235ac79-87cb-4abf-80e2-faa77300316a",
   "metadata": {},
   "outputs": [],
   "source": [
    "string = string.replace(\" \" ,\"\").lower() #removing space and coverting in lowercase\n",
    "reversed_string = string[-1:-18:-1]"
   ]
  },
  {
   "cell_type": "code",
   "execution_count": 76,
   "id": "9a2f08ae-f12b-45c0-bc9b-c1490630c42f",
   "metadata": {},
   "outputs": [
    {
     "name": "stdout",
     "output_type": "stream",
     "text": [
      "Reversed String:- neveroddoreven\n"
     ]
    }
   ],
   "source": [
    "print(\"Reversed String:-\", reversed_string) "
   ]
  },
  {
   "cell_type": "code",
   "execution_count": 82,
   "id": "059078b8-1cbd-4fb3-869c-a4ccd3823a92",
   "metadata": {},
   "outputs": [
    {
     "name": "stdout",
     "output_type": "stream",
     "text": [
      "It is PALINDROME\n"
     ]
    }
   ],
   "source": [
    "if string == reversed_string:\n",
    "    print(\"It is PALINDROME\")  #applying if else condition for checking palindrome\n",
    "else:\n",
    "    print(\"It is not PALINDROME\")"
   ]
  },
  {
   "cell_type": "code",
   "execution_count": 83,
   "id": "6f676066-d494-4572-ae88-c5b2906886fb",
   "metadata": {},
   "outputs": [],
   "source": [
    "#question 5 "
   ]
  },
  {
   "cell_type": "code",
   "execution_count": 84,
   "id": "15bb6a89-dc00-4ebf-81c6-c18bec1686f0",
   "metadata": {},
   "outputs": [
    {
     "name": "stdin",
     "output_type": "stream",
     "text": [
      "Enter the string:- I am IRON MAN\n"
     ]
    }
   ],
   "source": [
    "string = input(\"Enter the string:-\") #input from user"
   ]
  },
  {
   "cell_type": "code",
   "execution_count": null,
   "id": "5faa923a-aa5e-4a29-bd20-c6008d288920",
   "metadata": {},
   "outputs": [],
   "source": [
    "nospace_string = string.replace(\" "
   ]
  }
 ],
 "metadata": {
  "kernelspec": {
   "display_name": "Python 3 (ipykernel)",
   "language": "python",
   "name": "python3"
  },
  "language_info": {
   "codemirror_mode": {
    "name": "ipython",
    "version": 3
   },
   "file_extension": ".py",
   "mimetype": "text/x-python",
   "name": "python",
   "nbconvert_exporter": "python",
   "pygments_lexer": "ipython3",
   "version": "3.10.8"
  }
 },
 "nbformat": 4,
 "nbformat_minor": 5
}
